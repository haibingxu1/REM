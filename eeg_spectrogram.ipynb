import pandas as pd
import numpy as np
import matplotlib.pyplot as plt
import matplotlib.dates as md

eeg = pd.read_csv('data.csv', sep=',', parse_dates=[0], header=None,
                  names=['timestamp', 'raw'])
                  
     eeg['timestamp'][1] - eeg['timestamp'][0]      
     
     
     eeg['timestamp'] = eeg['timestamp'] - eeg['timestamp'][0]
eeg = eeg.set_index(pd.TimedeltaIndex(eeg['timestamp']))
eeg = eeg.resample('40ms') # 1953125 nanoseconds is the sample period for 512 Hz


eeg = eeg.fillna(method='ffill')

fig, (ax1, ax2) = plt.subplots(1,2,figsize=(12,4))
xfmt = md.DateFormatter('%M:%S')
ax1.xaxis.set_major_formatter(xfmt)
ax1.xaxis_date()
ax1.plot(eeg.index, eeg.raw); ax1.set_title('Raw EEG')
ax2.specgram(eeg['raw'], Fs=25); ax2.set_title('Spectrogram'); ax2.set_ylabel('Freq (Hz)');
ax2.set_xlabel('Time (s)');

